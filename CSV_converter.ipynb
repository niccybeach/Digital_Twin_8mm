{
 "cells": [
  {
   "cell_type": "code",
   "execution_count": 1,
   "id": "bd42c57a",
   "metadata": {
    "scrolled": false
   },
   "outputs": [
    {
     "name": "stdout",
     "output_type": "stream",
     "text": [
      "V_max =, m/s, 1.5456473800405557\n",
      "v_avg =, m/s, 0.9636368474469266\n"
     ]
    }
   ],
   "source": [
    "import pandas as pd\n",
    "import numpy as np\n",
    "\n",
    "def csv_converter(file_name):\n",
    "\n",
    "    new_cols = ['time', 'vel_x', 'vel_y', 'vel_z']\n",
    "    data = pd.read_csv('C:/Users/nickp/PhysTwin+bucket.rev1/V @ EXIT REGION.csv', skiprows=3)\n",
    "    threshold = -10\n",
    "    data_filtered = data[data['vel_x'] >= threshold]\n",
    "    data_filtered.columns = new_cols\n",
    "    data_filtered.to_csv(\"filtered_V @ EXIT REGION.csv\", index=False)\n",
    "\n",
    "    dt = pd.read_csv('filtered_V @ EXIT REGION.csv')\n",
    "\n",
    "    x = dt['vel_x']\n",
    "    # print(x)\n",
    "    y = dt['vel_y']\n",
    "    # print(y)\n",
    "    z = dt['vel_z']\n",
    "    # print(z)\n",
    "    mag = []\n",
    "    for i in range(0, len(x), 1):\n",
    "        mag.append((x[i]**2+y[i]**2+z[i]**2)**0.5)\n",
    "\n",
    "    v_max = max(mag)\n",
    "    print('V_max =,','m/s,', v_max)\n",
    "    v_avg = np.average(np.array([mag]))\n",
    "    print('v_avg =,', 'm/s,',v_avg)\n",
    "    #properties of the sim\n",
    "    start_line = 225 \n",
    "    end_line = 258  \n",
    "    new_columns = ['name', 'value']\n",
    "    props = pd.read_csv('C:/Users/nickp/PhysTwin+bucket.rev1/PhysTwin+bucket.rev1.mfx', skiprows=range(0, start_line), nrows=end_line - start_line, sep='=')\n",
    "    # display(props)\n",
    "    props.columns = new_columns\n",
    "    props.to_csv(file_name)\n",
    "\n",
    "\n",
    "    # Step 1: Read your program's outputs (replace with your code to obtain the outputs)\n",
    "    outputs1 = ['V_max =,','m/s,', v_max]  # Adjust the values for the first row\n",
    "    outputs2 = ['v_avg =,', 'm/s,',v_avg]  # Adjust the values for the second row\n",
    "\n",
    "    # Step 2: Load the existing CSV file into a DataFrame (replace 'your_separate.csv' with your file path)\n",
    "    csv_file_path = file_name\n",
    "    df = pd.read_csv(csv_file_path)\n",
    "\n",
    "    # Step 3: Create new rows with the program's outputs\n",
    "    new_row1 = pd.DataFrame([outputs1], columns=df.columns)\n",
    "    new_row2 = pd.DataFrame([outputs2], columns=df.columns)\n",
    "\n",
    "    # Step 4: Concatenate the new rows to the existing DataFrame\n",
    "    df = pd.concat([df, new_row1, new_row2], ignore_index=True)\n",
    "\n",
    "    # Step 5: Write the updated DataFrame back to the CSV file\n",
    "    df.to_csv(csv_file_path, index=False)\n",
    "\n",
    "csv_converter('8mm/DT run 3')"
   ]
  },
  {
   "cell_type": "code",
   "execution_count": 46,
   "id": "532d3d9b",
   "metadata": {},
   "outputs": [],
   "source": [
    "# # Create 10 CSV files with different filenames\n",
    "# for i in range(1, 11):\n",
    "#     # Read the properties from the MFX file\n",
    "#     props = pd.read_csv(mfx_file_path, skiprows=range(0, start_line), nrows=end_line - start_line, sep='=')\n",
    "#     props.columns = new_columns\n",
    "    \n",
    "#     # Define the filename for the CSV file\n",
    "#     csv_file_name = f'8mm_run_{i}.csv'\n",
    "    \n",
    "#     # Write the properties to the CSV file\n",
    "#     props.to_csv(csv_file_name, index=False)"
   ]
  },
  {
   "cell_type": "code",
   "execution_count": 32,
   "id": "46f36d58",
   "metadata": {},
   "outputs": [],
   "source": []
  },
  {
   "cell_type": "code",
   "execution_count": null,
   "id": "5d710437",
   "metadata": {},
   "outputs": [],
   "source": []
  }
 ],
 "metadata": {
  "kernelspec": {
   "display_name": "Python 3 (ipykernel)",
   "language": "python",
   "name": "python3"
  },
  "language_info": {
   "codemirror_mode": {
    "name": "ipython",
    "version": 3
   },
   "file_extension": ".py",
   "mimetype": "text/x-python",
   "name": "python",
   "nbconvert_exporter": "python",
   "pygments_lexer": "ipython3",
   "version": "3.9.12"
  }
 },
 "nbformat": 4,
 "nbformat_minor": 5
}
