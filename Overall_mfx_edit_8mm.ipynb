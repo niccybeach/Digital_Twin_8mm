{
 "cells": [
  {
   "cell_type": "code",
   "execution_count": 56,
   "id": "ab1369a1",
   "metadata": {},
   "outputs": [
    {
     "name": "stdout",
     "output_type": "stream",
     "text": [
      "0.48444587254899796\n",
      "0.005797412316640424\n",
      "0.5697827107958524\n",
      "4035.7666020815377\n",
      "0.7335311342120079\n"
     ]
    }
   ],
   "source": [
    "#input v_arbitrary here:\n",
    "vels= [0.97]\n",
    "\n",
    "%run MFiX_file_edit_CoR_8mm.ipynb\n",
    "cor = CoRest(vels)\n",
    "\n",
    "%run MFiX_file_edit_CoF_8mm.ipynb\n",
    "cof = CoFric(vels)\n",
    "\n",
    "%run MFiX_file_edit_CoRF_8mm.ipynb\n",
    "corf = CoRollFric(vels)\n",
    "\n",
    "%run MFiX_file_edit_damp_tan_norm_8mm.ipynb\n",
    "d_t_n = damp_tan_norm(vels)\n",
    "\n",
    "%run MFiX_file_edit_Kn_8mm.ipynb\n",
    "kn = K_n(vels)\n",
    "\n",
    "%run MFiX_file_edit_spr_tan_norm_8mm.ipynb\n",
    "s_t_n = Spr_tan_norm(vels)"
   ]
  },
  {
   "cell_type": "code",
   "execution_count": 57,
   "id": "6fa67789",
   "metadata": {},
   "outputs": [
    {
     "name": "stdout",
     "output_type": "stream",
     "text": [
      "0.4678282383383856 0.3343952241167525 0.007047538570692333 0.8311311790967828 6953.706346110499 0.9950719689109526\n"
     ]
    }
   ],
   "source": [
    "print(cor, cof, corf, d_t_n, kn, s_t_n)"
   ]
  },
  {
   "cell_type": "code",
   "execution_count": 44,
   "id": "43f1c9c9",
   "metadata": {},
   "outputs": [],
   "source": [
    "import pandas as pd"
   ]
  },
  {
   "cell_type": "code",
   "execution_count": 45,
   "id": "62cf6d4d",
   "metadata": {},
   "outputs": [],
   "source": [
    "#MFiX input File editing time:\n",
    "\n",
    "# start_line = 225 \n",
    "# end_line = 258  \n",
    "# props = pd.read_csv('C:/Users/nickp/PhysTwin+bucket.rev1/PhysTwin+bucket.rev1.mfx', skiprows=range(0, start_line), nrows=end_line - start_line, sep='=')\n",
    "# # display(props)\n",
    "\n",
    "# props.iloc[1,1] = cor\n",
    "# props.iloc[22,1] = cof\n",
    "# props.iloc[23,1] = corf\n",
    "# props.to_csv('DEM_inputs_new_8mm')\n",
    "\n",
    "with open('C:/Users/nickp/PhysTwin+bucket.rev1/PhysTwin+bucket.rev1.mfx', 'r') as file:\n",
    "    mfx_lines = file.readlines()\n",
    "    \n",
    "def replace_value(line_number, new_value):\n",
    "    parts = mfx_lines[line_number].split('=')\n",
    "    if len(parts) == 2:\n",
    "        parts[1] = str(new_value)\n",
    "        mfx_lines[line_number] = '= '.join(parts) + '\\n'\n",
    "\n",
    "# Replace values in the MFX file\n",
    "\n",
    "replace_value(227, cor)  \n",
    "replace_value(249, cof)  \n",
    "replace_value(250, corf)  \n",
    "replace_value(233, d_t_n)\n",
    "replace_value(245, kn)\n",
    "replace_value(247, s_t_n)\n",
    "\n",
    "# Write the updated MFX content back to the file # will make it the actual file later :)\n",
    "with open('C:/Users/nickp/PhysTwin+bucket.rev1/PhysTwin+bucket.rev1.mfx', 'w') as file:\n",
    "    file.writelines(mfx_lines)"
   ]
  },
  {
   "cell_type": "code",
   "execution_count": null,
   "id": "b2ecf609",
   "metadata": {},
   "outputs": [],
   "source": []
  }
 ],
 "metadata": {
  "kernelspec": {
   "display_name": "Python 3 (ipykernel)",
   "language": "python",
   "name": "python3"
  },
  "language_info": {
   "codemirror_mode": {
    "name": "ipython",
    "version": 3
   },
   "file_extension": ".py",
   "mimetype": "text/x-python",
   "name": "python",
   "nbconvert_exporter": "python",
   "pygments_lexer": "ipython3",
   "version": "3.9.12"
  }
 },
 "nbformat": 4,
 "nbformat_minor": 5
}
